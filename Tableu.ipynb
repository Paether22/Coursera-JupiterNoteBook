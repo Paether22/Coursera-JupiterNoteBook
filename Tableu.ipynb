{
  "nbformat": 4,
  "nbformat_minor": 0,
  "metadata": {
    "colab": {
      "provenance": [],
      "mount_file_id": "1Wy2boqcvpWzzDlQAKliEOStU-nrUR6l-",
      "authorship_tag": "ABX9TyPlJOGTuNlabemWvzfRKm1f",
      "include_colab_link": true
    },
    "kernelspec": {
      "name": "python3",
      "display_name": "Python 3"
    },
    "language_info": {
      "name": "python"
    }
  },
  "cells": [
    {
      "cell_type": "markdown",
      "metadata": {
        "id": "view-in-github",
        "colab_type": "text"
      },
      "source": [
        "<a href=\"https://colab.research.google.com/github/Paether22/Coursera-JupiterNoteBook/blob/main/Tableu.ipynb\" target=\"_parent\"><img src=\"https://colab.research.google.com/assets/colab-badge.svg\" alt=\"Open In Colab\"/></a>"
      ]
    },
    {
      "cell_type": "markdown",
      "source": [],
      "metadata": {
        "id": "nNfsOBdk-jh9"
      }
    },
    {
      "cell_type": "code",
      "execution_count": null,
      "metadata": {
        "colab": {
          "base_uri": "https://localhost:8080/"
        },
        "id": "bs650hLF3wIg",
        "outputId": "71aa6803-c9f5-4f31-f45a-2fa579576c4e"
      },
      "outputs": [
        {
          "output_type": "stream",
          "name": "stdout",
          "text": [
            "Requirement already satisfied: tabula-py in /usr/local/lib/python3.10/dist-packages (2.7.0)\n",
            "Requirement already satisfied: pandas>=0.25.3 in /usr/local/lib/python3.10/dist-packages (from tabula-py) (1.5.3)\n",
            "Requirement already satisfied: numpy in /usr/local/lib/python3.10/dist-packages (from tabula-py) (1.22.4)\n",
            "Requirement already satisfied: distro in /usr/local/lib/python3.10/dist-packages (from tabula-py) (1.8.0)\n",
            "Requirement already satisfied: python-dateutil>=2.8.1 in /usr/local/lib/python3.10/dist-packages (from pandas>=0.25.3->tabula-py) (2.8.2)\n",
            "Requirement already satisfied: pytz>=2020.1 in /usr/local/lib/python3.10/dist-packages (from pandas>=0.25.3->tabula-py) (2022.7.1)\n",
            "Requirement already satisfied: six>=1.5 in /usr/local/lib/python3.10/dist-packages (from python-dateutil>=2.8.1->pandas>=0.25.3->tabula-py) (1.16.0)\n"
          ]
        }
      ],
      "source": [
        "pip install tabula-py"
      ]
    },
    {
      "cell_type": "code",
      "source": [
        "import tabula\n",
        "import pandas as pd\n",
        "import numpy as np"
      ],
      "metadata": {
        "id": "oHuHhWLS3yZg"
      },
      "execution_count": null,
      "outputs": []
    },
    {
      "cell_type": "code",
      "source": [
        "file = '/tabula/Mercedes-Benz_szemelygepkocsi_alaparlista_2023_06_01.pdf'\n",
        "box = [3.8,3.9,22.6,16.1]\n",
        "box_last = [3.8,3.9,14.2,16.1]\n",
        "fc = 28.28\n",
        "for i in range(0, len(box)):\n",
        "  box[i] *= fc\n",
        "for n in range(0,len(box_last)):\n",
        "  box_last[n] *= fc"
      ],
      "metadata": {
        "id": "N1oLtuz831Qp"
      },
      "execution_count": null,
      "outputs": []
    },
    {
      "cell_type": "code",
      "source": [
        "table = tabula.read_pdf(file,pages='1,2', area = [box], stream = True, encoding=\"utf-8\")\n",
        "table_last = tabula.read_pdf(file,pages='3', area = [box_last], stream = True, encoding=\"utf-8\")\n",
        "table_ful = table + table_last"
      ],
      "metadata": {
        "id": "h5CtOL9s33XZ"
      },
      "execution_count": null,
      "outputs": []
    },
    {
      "cell_type": "code",
      "source": [
        "for x in range(0,len(table_ful)):\n",
        "  table_ful[x].drop(table_ful[x].iloc[:, 2:9], inplace=True,axis=1)"
      ],
      "metadata": {
        "id": "OZWPsVnZx5Ii"
      },
      "execution_count": null,
      "outputs": []
    },
    {
      "cell_type": "code",
      "source": [
        "table_column1 = table_ful[0].columns.tolist()\n",
        "table_column2 = table_ful[1].columns.tolist()\n",
        "table_column3 = table_ful[2].columns.tolist()"
      ],
      "metadata": {
        "id": "hJ-Kzh2foUtV"
      },
      "execution_count": null,
      "outputs": []
    },
    {
      "cell_type": "code",
      "source": [
        "table_ful[0].loc[-1] = table_column1\n",
        "table_ful[0].index = table_ful[0].index + 1\n",
        "table_ful[0] = table_ful[0].sort_index()\n",
        "table_ful[0] = table_ful[0].reset_index(drop=True)\n",
        "\n",
        "table_ful[1].loc[-1] = table_column2\n",
        "table_ful[1].index = table_ful[1].index + 1\n",
        "table_ful[1] = table_ful[1].sort_index()\n",
        "table_ful[1] = table_ful[1].reset_index(drop=True)\n",
        "\n",
        "table_ful[2].loc[-1] = table_column3\n",
        "table_ful[2].index = table_ful[2].index + 1\n",
        "table_ful[2] = table_ful[2].sort_index()\n",
        "table_ful[2] = table_ful[2].reset_index(drop=True)\n",
        "\n",
        "table_ful[0].head()"
      ],
      "metadata": {
        "colab": {
          "base_uri": "https://localhost:8080/",
          "height": 206
        },
        "id": "T9nQz-Y1vWKN",
        "outputId": "68669b91-b16d-4949-d0e4-34a6c3b33b25"
      },
      "execution_count": null,
      "outputs": [
        {
          "output_type": "execute_result",
          "data": {
            "text/plain": [
              "    Unnamed: 0                  A 180 d 177 010  14 754 00\n",
              "0   Unnamed: 0                  A 180 d 177 010  14 754 00\n",
              "1          NaN                  A 200 d 177 012  14 832 00\n",
              "2  A - osztály                  A 220 d 177 014  16 137 00\n",
              "3          NaN  A 180 Mild hybrid drive 177 084  13 889 00\n",
              "4          NaN  A 200 Mild hybrid drive 177 087  14 745 00"
            ],
            "text/html": [
              "\n",
              "  <div id=\"df-9eadfd18-3a68-4c8c-afd3-40b9e51f0c83\">\n",
              "    <div class=\"colab-df-container\">\n",
              "      <div>\n",
              "<style scoped>\n",
              "    .dataframe tbody tr th:only-of-type {\n",
              "        vertical-align: middle;\n",
              "    }\n",
              "\n",
              "    .dataframe tbody tr th {\n",
              "        vertical-align: top;\n",
              "    }\n",
              "\n",
              "    .dataframe thead th {\n",
              "        text-align: right;\n",
              "    }\n",
              "</style>\n",
              "<table border=\"1\" class=\"dataframe\">\n",
              "  <thead>\n",
              "    <tr style=\"text-align: right;\">\n",
              "      <th></th>\n",
              "      <th>Unnamed: 0</th>\n",
              "      <th>A 180 d 177 010</th>\n",
              "      <th>14 754 00</th>\n",
              "    </tr>\n",
              "  </thead>\n",
              "  <tbody>\n",
              "    <tr>\n",
              "      <th>0</th>\n",
              "      <td>Unnamed: 0</td>\n",
              "      <td>A 180 d 177 010</td>\n",
              "      <td>14 754 00</td>\n",
              "    </tr>\n",
              "    <tr>\n",
              "      <th>1</th>\n",
              "      <td>NaN</td>\n",
              "      <td>A 200 d 177 012</td>\n",
              "      <td>14 832 00</td>\n",
              "    </tr>\n",
              "    <tr>\n",
              "      <th>2</th>\n",
              "      <td>A - osztály</td>\n",
              "      <td>A 220 d 177 014</td>\n",
              "      <td>16 137 00</td>\n",
              "    </tr>\n",
              "    <tr>\n",
              "      <th>3</th>\n",
              "      <td>NaN</td>\n",
              "      <td>A 180 Mild hybrid drive 177 084</td>\n",
              "      <td>13 889 00</td>\n",
              "    </tr>\n",
              "    <tr>\n",
              "      <th>4</th>\n",
              "      <td>NaN</td>\n",
              "      <td>A 200 Mild hybrid drive 177 087</td>\n",
              "      <td>14 745 00</td>\n",
              "    </tr>\n",
              "  </tbody>\n",
              "</table>\n",
              "</div>\n",
              "      <button class=\"colab-df-convert\" onclick=\"convertToInteractive('df-9eadfd18-3a68-4c8c-afd3-40b9e51f0c83')\"\n",
              "              title=\"Convert this dataframe to an interactive table.\"\n",
              "              style=\"display:none;\">\n",
              "        \n",
              "  <svg xmlns=\"http://www.w3.org/2000/svg\" height=\"24px\"viewBox=\"0 0 24 24\"\n",
              "       width=\"24px\">\n",
              "    <path d=\"M0 0h24v24H0V0z\" fill=\"none\"/>\n",
              "    <path d=\"M18.56 5.44l.94 2.06.94-2.06 2.06-.94-2.06-.94-.94-2.06-.94 2.06-2.06.94zm-11 1L8.5 8.5l.94-2.06 2.06-.94-2.06-.94L8.5 2.5l-.94 2.06-2.06.94zm10 10l.94 2.06.94-2.06 2.06-.94-2.06-.94-.94-2.06-.94 2.06-2.06.94z\"/><path d=\"M17.41 7.96l-1.37-1.37c-.4-.4-.92-.59-1.43-.59-.52 0-1.04.2-1.43.59L10.3 9.45l-7.72 7.72c-.78.78-.78 2.05 0 2.83L4 21.41c.39.39.9.59 1.41.59.51 0 1.02-.2 1.41-.59l7.78-7.78 2.81-2.81c.8-.78.8-2.07 0-2.86zM5.41 20L4 18.59l7.72-7.72 1.47 1.35L5.41 20z\"/>\n",
              "  </svg>\n",
              "      </button>\n",
              "      \n",
              "  <style>\n",
              "    .colab-df-container {\n",
              "      display:flex;\n",
              "      flex-wrap:wrap;\n",
              "      gap: 12px;\n",
              "    }\n",
              "\n",
              "    .colab-df-convert {\n",
              "      background-color: #E8F0FE;\n",
              "      border: none;\n",
              "      border-radius: 50%;\n",
              "      cursor: pointer;\n",
              "      display: none;\n",
              "      fill: #1967D2;\n",
              "      height: 32px;\n",
              "      padding: 0 0 0 0;\n",
              "      width: 32px;\n",
              "    }\n",
              "\n",
              "    .colab-df-convert:hover {\n",
              "      background-color: #E2EBFA;\n",
              "      box-shadow: 0px 1px 2px rgba(60, 64, 67, 0.3), 0px 1px 3px 1px rgba(60, 64, 67, 0.15);\n",
              "      fill: #174EA6;\n",
              "    }\n",
              "\n",
              "    [theme=dark] .colab-df-convert {\n",
              "      background-color: #3B4455;\n",
              "      fill: #D2E3FC;\n",
              "    }\n",
              "\n",
              "    [theme=dark] .colab-df-convert:hover {\n",
              "      background-color: #434B5C;\n",
              "      box-shadow: 0px 1px 3px 1px rgba(0, 0, 0, 0.15);\n",
              "      filter: drop-shadow(0px 1px 2px rgba(0, 0, 0, 0.3));\n",
              "      fill: #FFFFFF;\n",
              "    }\n",
              "  </style>\n",
              "\n",
              "      <script>\n",
              "        const buttonEl =\n",
              "          document.querySelector('#df-9eadfd18-3a68-4c8c-afd3-40b9e51f0c83 button.colab-df-convert');\n",
              "        buttonEl.style.display =\n",
              "          google.colab.kernel.accessAllowed ? 'block' : 'none';\n",
              "\n",
              "        async function convertToInteractive(key) {\n",
              "          const element = document.querySelector('#df-9eadfd18-3a68-4c8c-afd3-40b9e51f0c83');\n",
              "          const dataTable =\n",
              "            await google.colab.kernel.invokeFunction('convertToInteractive',\n",
              "                                                     [key], {});\n",
              "          if (!dataTable) return;\n",
              "\n",
              "          const docLinkHtml = 'Like what you see? Visit the ' +\n",
              "            '<a target=\"_blank\" href=https://colab.research.google.com/notebooks/data_table.ipynb>data table notebook</a>'\n",
              "            + ' to learn more about interactive tables.';\n",
              "          element.innerHTML = '';\n",
              "          dataTable['output_type'] = 'display_data';\n",
              "          await google.colab.output.renderOutput(dataTable, element);\n",
              "          const docLink = document.createElement('div');\n",
              "          docLink.innerHTML = docLinkHtml;\n",
              "          element.appendChild(docLink);\n",
              "        }\n",
              "      </script>\n",
              "    </div>\n",
              "  </div>\n",
              "  "
            ]
          },
          "metadata": {},
          "execution_count": 70
        }
      ]
    },
    {
      "cell_type": "code",
      "source": [
        "table_ful[0] = table_ful[0].rename(columns={'Unnamed: 0':'Osztaly','A 180 d 177 010':'Tipus','14 754 00':'Ar' })\n",
        "table_ful[1] = table_ful[1].rename(columns={'Unnamed: 0':'Osztaly','C 180 limuzin Mild hybrid drive 206 041':'Tipus','18 137 00':'Ar' })\n",
        "table_ful[2] = table_ful[2].rename(columns={'Unnamed: 0':'Osztaly','CLS 220 d 257 314':'Tipus','32 086 00':'Ar' })"
      ],
      "metadata": {
        "id": "hSVPQ4qXq5t-"
      },
      "execution_count": null,
      "outputs": []
    },
    {
      "cell_type": "code",
      "source": [
        "frames = [table_ful[0],table_ful[1],table_ful[2]]\n",
        "final_df = pd.concat(frames,ignore_index=True)\n",
        "final_df.to_csv(\"mercedez.csv\", encoding='utf-8')"
      ],
      "metadata": {
        "id": "YN9MBrlhTk75"
      },
      "execution_count": null,
      "outputs": []
    },
    {
      "cell_type": "markdown",
      "source": [],
      "metadata": {
        "id": "Rlu97rrhUXCA"
      }
    },
    {
      "cell_type": "markdown",
      "source": [],
      "metadata": {
        "id": "IVqkyW4ndaDC"
      }
    },
    {
      "cell_type": "markdown",
      "source": [],
      "metadata": {
        "id": "n1xH1MlHF4E4"
      }
    }
  ]
}